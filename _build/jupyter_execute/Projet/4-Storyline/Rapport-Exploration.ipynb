{
 "cells": [
  {
   "cell_type": "markdown",
   "id": "8e5069a7-1097-4105-8040-f7f99c5bc1a5",
   "metadata": {
    "user_expressions": []
   },
   "source": [
    "# Rapport d'exploration\n",
    "\n",
    "**Objectif**:\n",
    "- Générer son rapport d'objectif\n",
    "- Rentrer plus en profondeur dans les objectifs que vous avez identifiés comme potentiellement faisable\n",
    "- 2\n",
    "\n",
    "## Récupération des données\n",
    "\n",
    "```{admonition} De quelle données a t'on besoin\n",
    ":class: tips\n",
    "\n",
    "- on récupère le tableau de données générés a la fin du module de formation\n",
    "- on récupère un autre tableau qui va nous aider à analyser plus en profondeur le fichier généré\n",
    "\n",
    "\n",
    "```"
   ]
  },
  {
   "cell_type": "code",
   "execution_count": null,
   "id": "a41c3043-35a1-4297-b3e0-023b85f8bc2a",
   "metadata": {},
   "outputs": [],
   "source": []
  }
 ],
 "metadata": {
  "kernelspec": {
   "display_name": "Python 3 (ipykernel)",
   "language": "python",
   "name": "python3"
  },
  "language_info": {
   "codemirror_mode": {
    "name": "ipython",
    "version": 3
   },
   "file_extension": ".py",
   "mimetype": "text/x-python",
   "name": "python",
   "nbconvert_exporter": "python",
   "pygments_lexer": "ipython3",
   "version": "3.9.13"
  }
 },
 "nbformat": 4,
 "nbformat_minor": 5
}